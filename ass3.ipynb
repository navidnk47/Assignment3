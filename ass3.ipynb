{
 "cells": [
  {
   "cell_type": "code",
   "execution_count": null,
   "id": "135ee695-e772-4a86-86ca-3ecfee9b8310",
   "metadata": {},
   "outputs": [],
   "source": [
    "Q1) Which keyword is used to create a function? Create a function to return a list of odd numbers in the\n",
    "   range of 1 to 25."
   ]
  },
  {
   "cell_type": "code",
   "execution_count": 1,
   "id": "835f9765-a9d8-4b28-a96a-fcd031aac8f2",
   "metadata": {},
   "outputs": [],
   "source": [
    "l=range(1,26)"
   ]
  },
  {
   "cell_type": "code",
   "execution_count": 2,
   "id": "dc6b74a6-f361-4805-a56e-e32a2d05951e",
   "metadata": {},
   "outputs": [
    {
     "data": {
      "text/plain": [
       "[1, 3, 5, 7, 9, 11, 13, 15, 17, 19, 21, 23, 25]"
      ]
     },
     "execution_count": 2,
     "metadata": {},
     "output_type": "execute_result"
    }
   ],
   "source": [
    "list(filter(lambda x: x%2 !=0,l))"
   ]
  },
  {
   "cell_type": "code",
   "execution_count": null,
   "id": "a4cfc57a-125e-4ff6-81c5-ab1815588d30",
   "metadata": {},
   "outputs": [],
   "source": []
  },
  {
   "cell_type": "code",
   "execution_count": null,
   "id": "fba69b90-fa7b-4ebc-9f8f-d578ffd1bbae",
   "metadata": {},
   "outputs": [],
   "source": []
  },
  {
   "cell_type": "code",
   "execution_count": null,
   "id": "66c31a53-f52d-48c2-9113-66e886f16194",
   "metadata": {},
   "outputs": [],
   "source": [
    " Q2) Why *args and **kwargs is used in some functions? Create a function each for *args and **kwargs\n",
    "  to demonstrate their use"
   ]
  },
  {
   "cell_type": "code",
   "execution_count": null,
   "id": "0664090a-f7f9-4480-bc81-2b2f3eba21fb",
   "metadata": {},
   "outputs": [],
   "source": [
    "staric args n number of arguments you can pass in function "
   ]
  },
  {
   "cell_type": "code",
   "execution_count": 10,
   "id": "e2111795-d5bb-458c-bcee-908a92a6077e",
   "metadata": {},
   "outputs": [],
   "source": [
    "def test1(*args):\n",
    "    return args"
   ]
  },
  {
   "cell_type": "code",
   "execution_count": 6,
   "id": "6c9f3b8a-0958-4cc1-a51e-3bfc843bcdaf",
   "metadata": {},
   "outputs": [
    {
     "data": {
      "text/plain": [
       "tuple"
      ]
     },
     "execution_count": 6,
     "metadata": {},
     "output_type": "execute_result"
    }
   ],
   "source": [
    "type(test1())"
   ]
  },
  {
   "cell_type": "code",
   "execution_count": 12,
   "id": "a8f66a21-cb43-4b2b-a8c0-47ec492a1463",
   "metadata": {},
   "outputs": [
    {
     "data": {
      "text/plain": [
       "(220, 320, 420)"
      ]
     },
     "execution_count": 12,
     "metadata": {},
     "output_type": "execute_result"
    }
   ],
   "source": [
    "test1(220,320,420)"
   ]
  },
  {
   "cell_type": "code",
   "execution_count": 13,
   "id": "89e72333-6747-41e7-b5d1-165dd3ee949d",
   "metadata": {},
   "outputs": [
    {
     "data": {
      "text/plain": [
       "(1, 2, 3, 'navid', 'mustaqueem', [1, 2, 3, 4, 4])"
      ]
     },
     "execution_count": 13,
     "metadata": {},
     "output_type": "execute_result"
    }
   ],
   "source": [
    "test1(1,2,3,\"navid\" , \"mustaqueem\" , [1,2,3,4,4])"
   ]
  },
  {
   "cell_type": "code",
   "execution_count": null,
   "id": "fc2c2218-54e9-46ae-861e-02174681042c",
   "metadata": {},
   "outputs": [],
   "source": []
  },
  {
   "cell_type": "code",
   "execution_count": 14,
   "id": "4bc6ea03-d468-4e76-88d2-bef2645873fe",
   "metadata": {},
   "outputs": [],
   "source": [
    "# keyword args used in dictionary type data **"
   ]
  },
  {
   "cell_type": "code",
   "execution_count": 22,
   "id": "18193fd8-4bef-415d-aef7-cb0fd195fbf6",
   "metadata": {},
   "outputs": [],
   "source": [
    "def test2(**kwargs):\n",
    "     return kwargs"
   ]
  },
  {
   "cell_type": "code",
   "execution_count": 23,
   "id": "b4fd565c-f817-41ed-9609-7d8c13c8337a",
   "metadata": {},
   "outputs": [
    {
     "data": {
      "text/plain": [
       "{}"
      ]
     },
     "execution_count": 23,
     "metadata": {},
     "output_type": "execute_result"
    }
   ],
   "source": [
    "test2()"
   ]
  },
  {
   "cell_type": "code",
   "execution_count": 26,
   "id": "97a2ab30-c506-4d7d-b5a2-98f69035d170",
   "metadata": {},
   "outputs": [
    {
     "data": {
      "text/plain": [
       "{'a': [1, 2, 3, 4], 'b': 'navid', 'c': 23.45}"
      ]
     },
     "execution_count": 26,
     "metadata": {},
     "output_type": "execute_result"
    }
   ],
   "source": [
    "test2(a=[1,2,3,4],  b=\"navid\", c=23.45)"
   ]
  },
  {
   "cell_type": "code",
   "execution_count": null,
   "id": "40fed2ed-29d1-4a1c-8251-7fda0b143124",
   "metadata": {},
   "outputs": [],
   "source": []
  },
  {
   "cell_type": "code",
   "execution_count": null,
   "id": "58367592-df86-4355-8364-fe07a76b7874",
   "metadata": {},
   "outputs": [],
   "source": [
    "Q3) What is an iterator in python? Name the method used to initialise the iterator object and the method\n",
    " used for iteration. Use these methods to print the first five elements of the given list [2, 4, 6, 8, 10, 12, 14,\n",
    " 16, 18, 20]."
   ]
  },
  {
   "cell_type": "code",
   "execution_count": 27,
   "id": "84d957e0-ced1-4046-b6bf-6aad6f016d03",
   "metadata": {},
   "outputs": [],
   "source": [
    "l=[2,4,6,8,10,12,14,16,18,20]"
   ]
  },
  {
   "cell_type": "code",
   "execution_count": 28,
   "id": "74c35df8-49e6-46f8-b1d3-79003a33501a",
   "metadata": {},
   "outputs": [
    {
     "name": "stdout",
     "output_type": "stream",
     "text": [
      "2\n",
      "4\n",
      "6\n",
      "8\n",
      "10\n",
      "12\n",
      "14\n",
      "16\n",
      "18\n",
      "20\n"
     ]
    }
   ],
   "source": [
    "for i in l:\n",
    "    print(i)"
   ]
  },
  {
   "cell_type": "code",
   "execution_count": 29,
   "id": "6727c835-5bd7-4eba-95da-9560a5970c1f",
   "metadata": {},
   "outputs": [
    {
     "ename": "TypeError",
     "evalue": "'list' object is not an iterator",
     "output_type": "error",
     "traceback": [
      "\u001b[0;31m---------------------------------------------------------------------------\u001b[0m",
      "\u001b[0;31mTypeError\u001b[0m                                 Traceback (most recent call last)",
      "Cell \u001b[0;32mIn[29], line 1\u001b[0m\n\u001b[0;32m----> 1\u001b[0m \u001b[38;5;28;43mnext\u001b[39;49m\u001b[43m(\u001b[49m\u001b[43ml\u001b[49m\u001b[43m)\u001b[49m\n",
      "\u001b[0;31mTypeError\u001b[0m: 'list' object is not an iterator"
     ]
    }
   ],
   "source": [
    "next(l)"
   ]
  },
  {
   "cell_type": "code",
   "execution_count": 30,
   "id": "b605249e-960e-45b7-a081-70f4c700463b",
   "metadata": {},
   "outputs": [],
   "source": [
    "l1=iter(l)"
   ]
  },
  {
   "cell_type": "code",
   "execution_count": 32,
   "id": "3eb16544-cd77-43d3-b7b0-e075a6fce80d",
   "metadata": {},
   "outputs": [
    {
     "data": {
      "text/plain": [
       "list_iterator"
      ]
     },
     "execution_count": 32,
     "metadata": {},
     "output_type": "execute_result"
    }
   ],
   "source": [
    "type(l1)"
   ]
  },
  {
   "cell_type": "code",
   "execution_count": 33,
   "id": "e719b431-dde8-4229-8013-e741370fd6db",
   "metadata": {},
   "outputs": [
    {
     "data": {
      "text/plain": [
       "2"
      ]
     },
     "execution_count": 33,
     "metadata": {},
     "output_type": "execute_result"
    }
   ],
   "source": [
    "next(l1)"
   ]
  },
  {
   "cell_type": "code",
   "execution_count": 34,
   "id": "336a18dc-7474-411c-8d02-46047e3007b1",
   "metadata": {},
   "outputs": [
    {
     "data": {
      "text/plain": [
       "4"
      ]
     },
     "execution_count": 34,
     "metadata": {},
     "output_type": "execute_result"
    }
   ],
   "source": [
    "next(l1)"
   ]
  },
  {
   "cell_type": "code",
   "execution_count": 35,
   "id": "4f72d7d8-d974-41e3-847d-c2f27513e347",
   "metadata": {},
   "outputs": [
    {
     "data": {
      "text/plain": [
       "6"
      ]
     },
     "execution_count": 35,
     "metadata": {},
     "output_type": "execute_result"
    }
   ],
   "source": [
    "next(l1)"
   ]
  },
  {
   "cell_type": "code",
   "execution_count": 36,
   "id": "ab6178dd-198c-4fca-b8df-282f4a3d374d",
   "metadata": {},
   "outputs": [
    {
     "data": {
      "text/plain": [
       "8"
      ]
     },
     "execution_count": 36,
     "metadata": {},
     "output_type": "execute_result"
    }
   ],
   "source": [
    "next(l1)"
   ]
  },
  {
   "cell_type": "code",
   "execution_count": 37,
   "id": "13335db4-0047-4b07-af35-39cdaa7e440d",
   "metadata": {},
   "outputs": [
    {
     "data": {
      "text/plain": [
       "10"
      ]
     },
     "execution_count": 37,
     "metadata": {},
     "output_type": "execute_result"
    }
   ],
   "source": [
    "next(l1)"
   ]
  },
  {
   "cell_type": "code",
   "execution_count": null,
   "id": "d6d6f74b-9da5-40ee-98cd-fc813a0db5a2",
   "metadata": {},
   "outputs": [],
   "source": []
  },
  {
   "cell_type": "code",
   "execution_count": null,
   "id": "e459ea73-8df8-4ecc-bb9a-3bc9a78964db",
   "metadata": {},
   "outputs": [],
   "source": [
    "Q4)What is a generator function in python? Why yield keyword is used? Give an example of a generator\n",
    "   function."
   ]
  },
  {
   "cell_type": "code",
   "execution_count": 38,
   "id": "a1e7a4f4-5960-43cd-858f-60ec8e8ac1ed",
   "metadata": {},
   "outputs": [],
   "source": [
    "def test_fib1():\n",
    "    a,b = 0,1\n",
    "    while True:\n",
    "        yield a \n",
    "        a,b = b , a+b"
   ]
  },
  {
   "cell_type": "code",
   "execution_count": 39,
   "id": "20cae88e-b521-4de0-9ead-0b25354d7738",
   "metadata": {},
   "outputs": [],
   "source": [
    "fib = test_fib1()"
   ]
  },
  {
   "cell_type": "code",
   "execution_count": 40,
   "id": "9e377c32-493f-41a3-b4db-b80b56705072",
   "metadata": {},
   "outputs": [
    {
     "data": {
      "text/plain": [
       "generator"
      ]
     },
     "execution_count": 40,
     "metadata": {},
     "output_type": "execute_result"
    }
   ],
   "source": [
    "type(fib)"
   ]
  },
  {
   "cell_type": "code",
   "execution_count": 41,
   "id": "51864822-d3f2-4fd3-aabc-a3f64ed4f779",
   "metadata": {},
   "outputs": [
    {
     "name": "stdout",
     "output_type": "stream",
     "text": [
      "0\n",
      "1\n",
      "1\n",
      "2\n",
      "3\n",
      "5\n",
      "8\n",
      "13\n",
      "21\n",
      "34\n"
     ]
    }
   ],
   "source": [
    "for i in range(10):\n",
    "    print(next(fib))"
   ]
  },
  {
   "cell_type": "code",
   "execution_count": null,
   "id": "30a0dab0-f1e0-4cd8-bd3f-836515000f34",
   "metadata": {},
   "outputs": [],
   "source": []
  },
  {
   "cell_type": "code",
   "execution_count": null,
   "id": "4bb995ee-4871-4284-a758-e2bf91ec7ffb",
   "metadata": {},
   "outputs": [],
   "source": [
    "Q5)Create a generator function for prime numbers less than 1000. Use the next() method to print the\n",
    "first 20 prime numbers."
   ]
  },
  {
   "cell_type": "code",
   "execution_count": 18,
   "id": "8fdddbdc-40b8-4b2c-9e9f-d04e719dde34",
   "metadata": {},
   "outputs": [],
   "source": [
    "def prime(num):\n",
    "    if num < 2: return False\n",
    "    for i in range (2, int(num**0.5)+1):\n",
    "        if num%i == 0:\n",
    "            return False\n",
    "    return True"
   ]
  },
  {
   "cell_type": "code",
   "execution_count": 19,
   "id": "44ef08a2-1c03-4aaa-bdb5-6a556422949e",
   "metadata": {},
   "outputs": [],
   "source": [
    "def prime_genrator():\n",
    "    for i in range(1000):\n",
    "        if prime(i):\n",
    "            yield i"
   ]
  },
  {
   "cell_type": "code",
   "execution_count": 21,
   "id": "ea5d1674-1f94-492a-a111-18b146d4178b",
   "metadata": {},
   "outputs": [
    {
     "data": {
      "text/plain": [
       "[2, 3, 5, 7, 11, 13, 17, 19, 23, 29, 31, 37, 41, 43, 47, 53, 59, 61, 67]"
      ]
     },
     "execution_count": 21,
     "metadata": {},
     "output_type": "execute_result"
    }
   ],
   "source": [
    "prime_num = prime_genrator()\n",
    "\n",
    "\n",
    "[next(prime_num) for i in range(1,20)]"
   ]
  },
  {
   "cell_type": "code",
   "execution_count": 26,
   "id": "15ffb69b-e2eb-4342-ba59-abd0d3aee7eb",
   "metadata": {},
   "outputs": [],
   "source": [
    "l3=[2, 3, 5, 7, 11, 13, 17, 19, 23, 29, 31, 37, 41, 43, 47, 53, 59, 61, 67]\n"
   ]
  },
  {
   "cell_type": "code",
   "execution_count": 28,
   "id": "bf580662-694f-441a-8e84-89d008d42e8f",
   "metadata": {},
   "outputs": [],
   "source": [
    "l4=iter(l3)"
   ]
  },
  {
   "cell_type": "code",
   "execution_count": 29,
   "id": "cb2308fa-fbe4-4cfa-8ae2-019dccb1c60d",
   "metadata": {},
   "outputs": [
    {
     "data": {
      "text/plain": [
       "2"
      ]
     },
     "execution_count": 29,
     "metadata": {},
     "output_type": "execute_result"
    }
   ],
   "source": [
    "next(l4)"
   ]
  },
  {
   "cell_type": "code",
   "execution_count": 30,
   "id": "fba62aef-eaf7-4954-8fa0-2ec0bf0b8d05",
   "metadata": {},
   "outputs": [
    {
     "data": {
      "text/plain": [
       "3"
      ]
     },
     "execution_count": 30,
     "metadata": {},
     "output_type": "execute_result"
    }
   ],
   "source": [
    "next(l4)"
   ]
  },
  {
   "cell_type": "code",
   "execution_count": 31,
   "id": "48c7b3b9-d682-4eae-b529-6c126d29e77a",
   "metadata": {},
   "outputs": [
    {
     "data": {
      "text/plain": [
       "5"
      ]
     },
     "execution_count": 31,
     "metadata": {},
     "output_type": "execute_result"
    }
   ],
   "source": [
    "next(l4)"
   ]
  },
  {
   "cell_type": "code",
   "execution_count": 32,
   "id": "7e2205e2-d19a-47ee-b55d-f1f8303bf897",
   "metadata": {},
   "outputs": [
    {
     "data": {
      "text/plain": [
       "7"
      ]
     },
     "execution_count": 32,
     "metadata": {},
     "output_type": "execute_result"
    }
   ],
   "source": [
    "next(l4)"
   ]
  },
  {
   "cell_type": "code",
   "execution_count": 33,
   "id": "c78e6eee-77c5-48ad-b411-742c4d3e4d3f",
   "metadata": {},
   "outputs": [
    {
     "data": {
      "text/plain": [
       "11"
      ]
     },
     "execution_count": 33,
     "metadata": {},
     "output_type": "execute_result"
    }
   ],
   "source": [
    "next(l4)"
   ]
  },
  {
   "cell_type": "code",
   "execution_count": 34,
   "id": "63c2e6a5-f284-43ae-95af-9704627a98a8",
   "metadata": {},
   "outputs": [
    {
     "data": {
      "text/plain": [
       "13"
      ]
     },
     "execution_count": 34,
     "metadata": {},
     "output_type": "execute_result"
    }
   ],
   "source": [
    "next(l4)"
   ]
  },
  {
   "cell_type": "code",
   "execution_count": 35,
   "id": "864ec400-cba6-4dc0-871f-7d600fa9ac5b",
   "metadata": {},
   "outputs": [
    {
     "data": {
      "text/plain": [
       "17"
      ]
     },
     "execution_count": 35,
     "metadata": {},
     "output_type": "execute_result"
    }
   ],
   "source": [
    "next(l4)"
   ]
  },
  {
   "cell_type": "code",
   "execution_count": 36,
   "id": "1a4d19ee-a5c4-41cd-b808-7daeb26d4263",
   "metadata": {},
   "outputs": [
    {
     "data": {
      "text/plain": [
       "19"
      ]
     },
     "execution_count": 36,
     "metadata": {},
     "output_type": "execute_result"
    }
   ],
   "source": [
    "next(l4)"
   ]
  },
  {
   "cell_type": "code",
   "execution_count": 37,
   "id": "6fbe27c1-42e6-401f-9c59-5129d127e5b0",
   "metadata": {},
   "outputs": [
    {
     "data": {
      "text/plain": [
       "23"
      ]
     },
     "execution_count": 37,
     "metadata": {},
     "output_type": "execute_result"
    }
   ],
   "source": [
    "next(l4)"
   ]
  },
  {
   "cell_type": "code",
   "execution_count": 38,
   "id": "19ac50c5-f2e3-466e-9b0f-bb9ac5dae991",
   "metadata": {},
   "outputs": [
    {
     "data": {
      "text/plain": [
       "29"
      ]
     },
     "execution_count": 38,
     "metadata": {},
     "output_type": "execute_result"
    }
   ],
   "source": [
    "next(l4)"
   ]
  },
  {
   "cell_type": "code",
   "execution_count": 39,
   "id": "25e63058-ba5d-4490-a838-b5e5e87ea9d5",
   "metadata": {},
   "outputs": [
    {
     "data": {
      "text/plain": [
       "31"
      ]
     },
     "execution_count": 39,
     "metadata": {},
     "output_type": "execute_result"
    }
   ],
   "source": [
    "next(l4)"
   ]
  },
  {
   "cell_type": "code",
   "execution_count": 40,
   "id": "84c34a46-373c-4d5f-be22-b9c91b074bdf",
   "metadata": {},
   "outputs": [
    {
     "data": {
      "text/plain": [
       "37"
      ]
     },
     "execution_count": 40,
     "metadata": {},
     "output_type": "execute_result"
    }
   ],
   "source": [
    "next(l4)"
   ]
  },
  {
   "cell_type": "code",
   "execution_count": 41,
   "id": "8fc4df7b-8de4-4ee1-8095-335cf0bb48f0",
   "metadata": {},
   "outputs": [
    {
     "data": {
      "text/plain": [
       "41"
      ]
     },
     "execution_count": 41,
     "metadata": {},
     "output_type": "execute_result"
    }
   ],
   "source": [
    "next(l4)"
   ]
  },
  {
   "cell_type": "code",
   "execution_count": 42,
   "id": "225d8944-7430-4839-b6b9-cf47b99ad274",
   "metadata": {},
   "outputs": [
    {
     "data": {
      "text/plain": [
       "43"
      ]
     },
     "execution_count": 42,
     "metadata": {},
     "output_type": "execute_result"
    }
   ],
   "source": [
    "next(l4)"
   ]
  },
  {
   "cell_type": "code",
   "execution_count": 43,
   "id": "6da70bac-4616-4cf0-9dd6-8953eb3fbc92",
   "metadata": {},
   "outputs": [
    {
     "data": {
      "text/plain": [
       "47"
      ]
     },
     "execution_count": 43,
     "metadata": {},
     "output_type": "execute_result"
    }
   ],
   "source": [
    "next(l4)"
   ]
  },
  {
   "cell_type": "code",
   "execution_count": 44,
   "id": "a5e8682b-013f-4b6f-a247-2b9b7ab30cd5",
   "metadata": {},
   "outputs": [
    {
     "data": {
      "text/plain": [
       "53"
      ]
     },
     "execution_count": 44,
     "metadata": {},
     "output_type": "execute_result"
    }
   ],
   "source": [
    "next(l4)"
   ]
  },
  {
   "cell_type": "code",
   "execution_count": 45,
   "id": "5bf9e4e1-fbee-4c4d-a8ef-fe3a044c5d9b",
   "metadata": {},
   "outputs": [
    {
     "data": {
      "text/plain": [
       "59"
      ]
     },
     "execution_count": 45,
     "metadata": {},
     "output_type": "execute_result"
    }
   ],
   "source": [
    "next(l4)"
   ]
  },
  {
   "cell_type": "code",
   "execution_count": 46,
   "id": "36cd598f-5c3e-4cc4-8b81-6a2864e17126",
   "metadata": {},
   "outputs": [
    {
     "data": {
      "text/plain": [
       "61"
      ]
     },
     "execution_count": 46,
     "metadata": {},
     "output_type": "execute_result"
    }
   ],
   "source": [
    "next(l4)"
   ]
  },
  {
   "cell_type": "code",
   "execution_count": 47,
   "id": "6637da63-ea86-4680-a2ef-3e84acc3c796",
   "metadata": {},
   "outputs": [
    {
     "data": {
      "text/plain": [
       "67"
      ]
     },
     "execution_count": 47,
     "metadata": {},
     "output_type": "execute_result"
    }
   ],
   "source": [
    "next(l4)"
   ]
  },
  {
   "cell_type": "code",
   "execution_count": null,
   "id": "60e4fd4b-b264-4a59-bff5-00d4fff45ee5",
   "metadata": {},
   "outputs": [],
   "source": []
  },
  {
   "cell_type": "code",
   "execution_count": null,
   "id": "09a8d7e6-1506-4f81-82f0-f393e3184199",
   "metadata": {},
   "outputs": [],
   "source": []
  },
  {
   "cell_type": "code",
   "execution_count": null,
   "id": "901e1b65-a0e9-4218-8b15-61db32da676c",
   "metadata": {},
   "outputs": [],
   "source": [
    "   Q6)Q6. Write a python program to print the first 10 Fibonacci numbers using a while loop."
   ]
  },
  {
   "cell_type": "code",
   "execution_count": 47,
   "id": "f60083ef-0353-484a-b2b7-f10fceaad038",
   "metadata": {},
   "outputs": [],
   "source": [
    "def fibnacci_number(n):\n",
    "    l = 1 \n",
    "    while l <= n :\n",
    "        yield l\n",
    "        l = l + 1"
   ]
  },
  {
   "cell_type": "code",
   "execution_count": 63,
   "id": "f3c0cde7-e5e6-4944-bf7d-5ee7729d3af7",
   "metadata": {},
   "outputs": [],
   "source": [
    "a=fibnacci_number(10)"
   ]
  },
  {
   "cell_type": "code",
   "execution_count": 64,
   "id": "34e97dc3-7714-4af1-b079-f318a07b47b0",
   "metadata": {},
   "outputs": [
    {
     "data": {
      "text/plain": [
       "generator"
      ]
     },
     "execution_count": 64,
     "metadata": {},
     "output_type": "execute_result"
    }
   ],
   "source": [
    "type(a)"
   ]
  },
  {
   "cell_type": "code",
   "execution_count": 65,
   "id": "1bff30bd-9b22-4e44-b6a9-cf8da7ba3f9d",
   "metadata": {},
   "outputs": [
    {
     "name": "stdout",
     "output_type": "stream",
     "text": [
      "1\n",
      "2\n",
      "3\n",
      "4\n",
      "5\n",
      "6\n",
      "7\n",
      "8\n",
      "9\n",
      "10\n"
     ]
    }
   ],
   "source": [
    "for i in a :\n",
    "    print(i)"
   ]
  },
  {
   "cell_type": "code",
   "execution_count": null,
   "id": "b2ab1b23-3522-426e-8e02-86cc681853e9",
   "metadata": {},
   "outputs": [],
   "source": []
  },
  {
   "cell_type": "code",
   "execution_count": null,
   "id": "7229e584-85c4-4f0f-8750-e8c9e4f30496",
   "metadata": {},
   "outputs": [],
   "source": [
    " Q7)Write a List Comprehension to iterate through the given string: ‘pwskills’.\n",
    "     Expected output: ['p', 'w', 's', 'k', 'i', 'l', 'l', 's']"
   ]
  },
  {
   "cell_type": "code",
   "execution_count": 3,
   "id": "5f319953-4db8-400f-a209-ec6ea70d7a73",
   "metadata": {},
   "outputs": [],
   "source": [
    "s=\"pwskills\""
   ]
  },
  {
   "cell_type": "code",
   "execution_count": 4,
   "id": "4ecb0dbf-83f6-4297-ba91-b6ade578462c",
   "metadata": {},
   "outputs": [
    {
     "data": {
      "text/plain": [
       "['P', 'W', 'S', 'K', 'I', 'L', 'L', 'S']"
      ]
     },
     "execution_count": 4,
     "metadata": {},
     "output_type": "execute_result"
    }
   ],
   "source": [
    "list(map(lambda s: s.upper(),s))"
   ]
  },
  {
   "cell_type": "code",
   "execution_count": null,
   "id": "9683e283-9bf3-49bb-b163-7fc7f9a88d40",
   "metadata": {},
   "outputs": [],
   "source": []
  },
  {
   "cell_type": "code",
   "execution_count": null,
   "id": "9290b1b8-4673-40d5-ae16-e7eb9bb5bf1d",
   "metadata": {},
   "outputs": [],
   "source": [
    "Q8) Write a python program to check whether a given number is Palindrome or not using a while loop."
   ]
  },
  {
   "cell_type": "code",
   "execution_count": 6,
   "id": "cefff79f-90dd-48e6-9567-7b7097b35b1b",
   "metadata": {},
   "outputs": [
    {
     "name": "stdin",
     "output_type": "stream",
     "text": [
      "Enter number to check is Palindrome:  12\n"
     ]
    },
    {
     "name": "stdout",
     "output_type": "stream",
     "text": [
      "12 is not a Palindrome number\n"
     ]
    }
   ],
   "source": [
    "user= int(input('Enter number to check is Palindrome: '))\n",
    "inital_num= user\n",
    "num= inital_num\n",
    "rev_num= 0\n",
    "\n",
    "while num>0:\n",
    "    x= num%10 #last digit\n",
    "    rev_num = rev_num* 10 + x \n",
    "    num//=10 #remove last digit\n",
    "\n",
    "if rev_num == inital_num:\n",
    "    print(f'{inital_num} is a Palindrome number')\n",
    "else:\n",
    "    print(f'{inital_num} is not a Palindrome number')"
   ]
  },
  {
   "cell_type": "code",
   "execution_count": 10,
   "id": "b0e602c6-d87c-457a-8af2-4e69e939004c",
   "metadata": {},
   "outputs": [
    {
     "name": "stdin",
     "output_type": "stream",
     "text": [
      "Enter number to check is Palindrome:  2\n"
     ]
    },
    {
     "name": "stdout",
     "output_type": "stream",
     "text": [
      "2 is a Palindrome number\n"
     ]
    }
   ],
   "source": [
    "user= int(input('Enter number to check is Palindrome: '))\n",
    "inital_num= user\n",
    "num= inital_num\n",
    "rev_num= 0\n",
    "\n",
    "while num>0:\n",
    "    x= num%10 #last digit\n",
    "    rev_num = rev_num* 10 + x \n",
    "    num//=10 #remove last digit\n",
    "\n",
    "if rev_num == inital_num:\n",
    "    print(f'{inital_num} is a Palindrome number')\n",
    "else:\n",
    "    print(f'{inital_num} is not a Palindrome number')"
   ]
  },
  {
   "cell_type": "code",
   "execution_count": null,
   "id": "6a543b27-5336-4878-b4a8-8bf408719896",
   "metadata": {},
   "outputs": [],
   "source": []
  },
  {
   "cell_type": "code",
   "execution_count": null,
   "id": "10dc27e2-2cb9-4641-88b1-64c156b894eb",
   "metadata": {},
   "outputs": [],
   "source": [
    "Q9)Write a code to print odd numbers from 1 to 100 using list comprehension"
   ]
  },
  {
   "cell_type": "code",
   "execution_count": 11,
   "id": "58878f53-564e-4e1e-9a61-11e9a4479678",
   "metadata": {},
   "outputs": [],
   "source": [
    "l2=range(1,100)"
   ]
  },
  {
   "cell_type": "code",
   "execution_count": 16,
   "id": "0d690515-a3de-4d8c-9d77-9f7d9076804f",
   "metadata": {},
   "outputs": [
    {
     "data": {
      "text/plain": [
       "[1,\n",
       " 3,\n",
       " 5,\n",
       " 7,\n",
       " 9,\n",
       " 11,\n",
       " 13,\n",
       " 15,\n",
       " 17,\n",
       " 19,\n",
       " 21,\n",
       " 23,\n",
       " 25,\n",
       " 27,\n",
       " 29,\n",
       " 31,\n",
       " 33,\n",
       " 35,\n",
       " 37,\n",
       " 39,\n",
       " 41,\n",
       " 43,\n",
       " 45,\n",
       " 47,\n",
       " 49,\n",
       " 51,\n",
       " 53,\n",
       " 55,\n",
       " 57,\n",
       " 59,\n",
       " 61,\n",
       " 63,\n",
       " 65,\n",
       " 67,\n",
       " 69,\n",
       " 71,\n",
       " 73,\n",
       " 75,\n",
       " 77,\n",
       " 79,\n",
       " 81,\n",
       " 83,\n",
       " 85,\n",
       " 87,\n",
       " 89,\n",
       " 91,\n",
       " 93,\n",
       " 95,\n",
       " 97,\n",
       " 99]"
      ]
     },
     "execution_count": 16,
     "metadata": {},
     "output_type": "execute_result"
    }
   ],
   "source": [
    "list(filter(lambda x:x%2 !=0,l2))"
   ]
  }
 ],
 "metadata": {
  "kernelspec": {
   "display_name": "Python 3 (ipykernel)",
   "language": "python",
   "name": "python3"
  },
  "language_info": {
   "codemirror_mode": {
    "name": "ipython",
    "version": 3
   },
   "file_extension": ".py",
   "mimetype": "text/x-python",
   "name": "python",
   "nbconvert_exporter": "python",
   "pygments_lexer": "ipython3",
   "version": "3.10.8"
  }
 },
 "nbformat": 4,
 "nbformat_minor": 5
}
